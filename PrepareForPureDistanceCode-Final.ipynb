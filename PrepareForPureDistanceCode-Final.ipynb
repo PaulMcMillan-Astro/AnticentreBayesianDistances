{
 "cells": [
  {
   "cell_type": "code",
   "execution_count": null,
   "metadata": {},
   "outputs": [],
   "source": [
    "import matplotlib\n",
    "import numpy as np\n",
    "import scipy\n",
    "import matplotlib.pyplot as plt\n",
    "from scipy import stats\n",
    "\n",
    "from matplotlib import rcParams\n",
    "rcParams[\"text.usetex\"] = True\n",
    "rcParams[\"text.latex.preamble\"] = r\"\\usepackage{txfonts}\"\n",
    "rcParams[\"font.family\"] = 'serif'\n",
    "rcParams[\"font.serif\"] = 'Times'\n",
    "rcParams[\"font.size\"] = 16\n",
    "\n",
    "import pandas as pd\n",
    "import subprocess"
   ]
  },
  {
   "cell_type": "markdown",
   "metadata": {},
   "source": [
    "## Code to determine iterative distance estimates for stars in the anticentre \n",
    "\n",
    "### As used by \"Gaia Early Data Release 3: The Galactic anticentre\"\n",
    "#### Table of results used for that paper available via zenodo"
   ]
  },
  {
   "cell_type": "code",
   "execution_count": null,
   "metadata": {},
   "outputs": [],
   "source": [
    "\n",
    "# input file - taken from a request to the Gaia archive like that in the \n",
    "# appendix of \"Gaia Early Data Release 3: The Galactic anticentre\"\n",
    "filename = 'EDR3_input_data.csv'\n",
    "# File for tabulated density prior\n",
    "prior_filename = 'Density_Prior_' + filename\n",
    "# Output files (csv and hdf)\n",
    "outname = 'EDR3_anticentre_distances'\n",
    "\n",
    "\n",
    "# Parallax zeropoint correction\n",
    "correctiontype = 'const17'\n",
    "zeropoint_filename = '' # Only needed if tabulauted from e.g. the Lindegren correction\n",
    "\n",
    "# Range in l,b (note that symmetry of field in b is assumed)\n",
    "lmin,lmax = 170,190\n",
    "bmax = 10"
   ]
  },
  {
   "cell_type": "code",
   "execution_count": null,
   "metadata": {},
   "outputs": [],
   "source": [
    "# file containing parallax, parallax_error, l, b\n",
    "df = pd.read_csv(filename)\n",
    "#df = pd.read_hdf('EDR3_input_data.h5','table')\n",
    "zpcode = ''\n",
    "\n",
    "if correctiontype == 'zeropoint_file' :\n",
    "# file containing zero-point values\n",
    "    df_z = pd.read_csv(zeropoint_filename)\n",
    "    df = pd.merge(df_z,df,on='source_id')\n",
    "    df['parallax_corrected'] = df['parallax'] - df['zpt']\n",
    "    df_z =  []\n",
    "    zpcode = '_zp_file'\n",
    "elif correctiontype == 'none' :\n",
    "    df['parallax_corrected'] = df['parallax']\n",
    "    zpcode = ''\n",
    "elif correctiontype == 'const17' :\n",
    "    df['parallax_corrected'] = df['parallax'] + 0.017\n",
    "    zpcode = '_zp17'\n",
    "else :\n",
    "    print('No correction given, assuming none')\n",
    "    df['parallax_corrected'] = df['parallax']\n",
    "    zpcode = ''"
   ]
  },
  {
   "cell_type": "code",
   "execution_count": null,
   "metadata": {},
   "outputs": [],
   "source": [
    "# Produce prior file\n",
    "subprocess.run([\"./Prior_calc_anticentre.exe\", \n",
    "                prior_filename,'%f' % lmin,'%f' % lmax, '%f' % bmax])\n",
    "# and read it back in\n",
    "df_prior = pd.read_csv(prior_filename)\n",
    "# radial range over which this is tabulated\n",
    "rrange = np.linspace(0,10,51)"
   ]
  },
  {
   "cell_type": "markdown",
   "metadata": {},
   "source": [
    "# For $\\varpi/\\sigma_\\varpi<3$ distance estimates become much less useful, so we only use  values with $\\varpi/\\sigma_\\varpi\\geq3$. \n",
    "\n",
    "To enable easier comparison between samples, we use the quoted parallax, rather than the corrected one."
   ]
  },
  {
   "cell_type": "code",
   "execution_count": null,
   "metadata": {},
   "outputs": [],
   "source": [
    "df_good = df[df.parallax>=3.*df.parallax_error]"
   ]
  },
  {
   "cell_type": "code",
   "execution_count": null,
   "metadata": {},
   "outputs": [],
   "source": [
    "df_good"
   ]
  },
  {
   "cell_type": "markdown",
   "metadata": {},
   "source": [
    "Put into format for reading by the C++ code"
   ]
  },
  {
   "cell_type": "code",
   "execution_count": null,
   "metadata": {},
   "outputs": [],
   "source": [
    "df_good.to_csv(filename+zpcode+'.input',sep=' ',\n",
    "               columns=['source_id', 'l','b','parallax_corrected','parallax_error'], \n",
    "              index=False, header=False)"
   ]
  },
  {
   "cell_type": "markdown",
   "metadata": {},
   "source": [
    "# Run distance code with estimated selection function. Then iterate to improve estimated selection function\n",
    "\n",
    "See appendix C of \"Gaia Early Data Release 3: The Galactic anticentre\" for details"
   ]
  },
  {
   "cell_type": "code",
   "execution_count": null,
   "metadata": {},
   "outputs": [],
   "source": [
    "\n",
    "nIterations = 5\n",
    "runDistanceCode=True\n",
    "\n",
    "plt.gcf().set_size_inches(15,10)\n",
    "plt.subplot(2,3,1)\n",
    "\n",
    "# Initial estimate\n",
    "hist,bin_edges = np.histogram(1./(df_good['parallax_corrected']),rrange,density=True)\n",
    "rcentres = 0.5*( bin_edges[:-1]+bin_edges[1:] )\n",
    "\n",
    "# Estimate comes from the range 1-3 kpc\n",
    "maskdist = (rcentres< 3.) & (rcentres>1.)\n",
    "color = 0\n",
    "plt.plot(rcentres,hist/df_prior.integrated_prior.values,\n",
    "         color='C%d' % color)\n",
    "slope, intercept, _, _, _ = stats.linregress(rcentres[maskdist],\n",
    "                                            np.log(hist[maskdist]\n",
    "                                                   /df_prior.integrated_prior[maskdist]))\n",
    "# Slope = 1/scalelength for selection function\n",
    "plt.plot(rcentres,np.exp(intercept+slope*rcentres),linestyle=':',color='C%d' % color)\n",
    "\n",
    "\n",
    "plt.yscale('log')\n",
    "plt.title('slope = %.4f' % slope)\n",
    "\n",
    "for i in range (nIterations) : \n",
    "    plt.subplot(2,3,i+2)\n",
    "    outname = filename+zpcode+'.out%d' % (i+1)\n",
    "    \n",
    "    if runDistanceCode :\n",
    "        Runcode = subprocess.run([\"./Distance_calc_anticentre.exe\", \n",
    "                                  filename+zpcode+'.input',\n",
    "                                  outname,\n",
    "                                 '%f' % slope])\n",
    "    print ('.',end='')\n",
    "    \n",
    "    df_tmp_out = pd.read_csv(outname)\n",
    "    df_tmp = pd.merge(df_good,df_tmp_out,on='source_id')\n",
    "    parcuts = [5,4,3]\n",
    "    rrange = np.linspace(0,10,51)\n",
    "\n",
    "    color = 0\n",
    "    for pc in parcuts :\n",
    "        testmask = df_tmp['parallax_corrected']/df_tmp['parallax_error'] > pc\n",
    "        hist,bin_edges = np.histogram((df_tmp['distance'])[testmask],rrange,density=True)\n",
    "        rcentres = 0.5*( bin_edges[:-1]+bin_edges[1:] )\n",
    "        \n",
    "        maskdist = (rcentres< 3.) & (rcentres>1.)\n",
    "        plt.plot(rcentres,hist/df_prior.integrated_prior.values,\n",
    "                label='%d' % pc,color='C%d' % color)\n",
    "        slope, intercept,  _, _, _  = stats.linregress(rcentres[maskdist],\n",
    "                                                        np.log(hist[maskdist]\n",
    "                                                            /df_prior.integrated_prior[maskdist]))\n",
    "        plt.plot(rcentres,np.exp(intercept+slope*rcentres),linestyle=':',color='C%d' % color)\n",
    "        color+=1\n",
    "        #print(pc,slope)\n",
    "    plt.yscale('log')\n",
    "    plt.legend()\n",
    "    plt.title('slope = %.4f' % slope)\n",
    "\n",
    "plt.show()"
   ]
  },
  {
   "cell_type": "code",
   "execution_count": null,
   "metadata": {},
   "outputs": [],
   "source": [
    "df_write = pd.read_csv(filename+zpcode+'.out5')\n"
   ]
  },
  {
   "cell_type": "code",
   "execution_count": null,
   "metadata": {},
   "outputs": [],
   "source": [
    "\n",
    "df_write.to_csv(outname+zpcode+'.csv',float_format='%g',index=False)\n",
    "df_write.to_hdf(outname+zpcode+'.h5','table')\n"
   ]
  },
  {
   "cell_type": "code",
   "execution_count": null,
   "metadata": {},
   "outputs": [],
   "source": [
    "df_write"
   ]
  }
 ],
 "metadata": {
  "kernelspec": {
   "display_name": "Python 3",
   "language": "python",
   "name": "python3"
  },
  "language_info": {
   "codemirror_mode": {
    "name": "ipython",
    "version": 3
   },
   "file_extension": ".py",
   "mimetype": "text/x-python",
   "name": "python",
   "nbconvert_exporter": "python",
   "pygments_lexer": "ipython3",
   "version": "3.7.3"
  }
 },
 "nbformat": 4,
 "nbformat_minor": 2
}
